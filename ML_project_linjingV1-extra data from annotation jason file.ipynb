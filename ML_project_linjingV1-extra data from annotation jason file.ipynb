{
 "cells": [
  {
   "cell_type": "code",
   "execution_count": 1,
   "id": "22c4f28f",
   "metadata": {},
   "outputs": [],
   "source": [
    "import pandas as pd\n",
    "import numpy as np\n",
    "import os\n",
    "import matplotlib.pyplot as plt\n",
    "import cv2\n",
    "import matplotlib.patches as patches\n",
    "import tensorflow as tf\n",
    "import keras\n",
    "from keras.layers import Flatten, Dense, Conv2D, MaxPooling2D, Dropout, Activation\n",
    "from keras.models import Sequential\n",
    "from keras.callbacks import ModelCheckpoint\n",
    "from sklearn.model_selection import train_test_split\n",
    "from sklearn.preprocessing import LabelEncoder\n",
    "import json\n",
    "import random\n",
    "import seaborn as sns"
   ]
  },
  {
   "cell_type": "code",
   "execution_count": 2,
   "id": "bac86aa0",
   "metadata": {},
   "outputs": [],
   "source": [
    "from IPython.core.interactiveshell import InteractiveShell\n",
    "InteractiveShell.ast_node_interactivity = \"all\""
   ]
  },
  {
   "cell_type": "code",
   "execution_count": 3,
   "id": "3b23d0d1",
   "metadata": {},
   "outputs": [],
   "source": [
    "# explore 'train' data"
   ]
  },
  {
   "cell_type": "code",
   "execution_count": 4,
   "id": "311701ca",
   "metadata": {},
   "outputs": [],
   "source": [
    "## load train data\n",
    "meta_data = pd.read_csv(r'C:\\Anaconda_Python\\Python_Course_Material\\2021spring_machine_learning\\HW\\Project\\dataset\\train.csv')"
   ]
  },
  {
   "cell_type": "code",
   "execution_count": 5,
   "id": "dc459685",
   "metadata": {
    "scrolled": true
   },
   "outputs": [
    {
     "data": {
      "text/html": [
       "<div>\n",
       "<style scoped>\n",
       "    .dataframe tbody tr th:only-of-type {\n",
       "        vertical-align: middle;\n",
       "    }\n",
       "\n",
       "    .dataframe tbody tr th {\n",
       "        vertical-align: top;\n",
       "    }\n",
       "\n",
       "    .dataframe thead th {\n",
       "        text-align: right;\n",
       "    }\n",
       "</style>\n",
       "<table border=\"1\" class=\"dataframe\">\n",
       "  <thead>\n",
       "    <tr style=\"text-align: right;\">\n",
       "      <th></th>\n",
       "      <th>name</th>\n",
       "      <th>x1</th>\n",
       "      <th>x2</th>\n",
       "      <th>y1</th>\n",
       "      <th>y2</th>\n",
       "      <th>classname</th>\n",
       "    </tr>\n",
       "  </thead>\n",
       "  <tbody>\n",
       "    <tr>\n",
       "      <th>0</th>\n",
       "      <td>2756.png</td>\n",
       "      <td>69</td>\n",
       "      <td>126</td>\n",
       "      <td>294</td>\n",
       "      <td>392</td>\n",
       "      <td>face_with_mask</td>\n",
       "    </tr>\n",
       "    <tr>\n",
       "      <th>1</th>\n",
       "      <td>2756.png</td>\n",
       "      <td>505</td>\n",
       "      <td>10</td>\n",
       "      <td>723</td>\n",
       "      <td>283</td>\n",
       "      <td>face_with_mask</td>\n",
       "    </tr>\n",
       "    <tr>\n",
       "      <th>2</th>\n",
       "      <td>2756.png</td>\n",
       "      <td>75</td>\n",
       "      <td>252</td>\n",
       "      <td>264</td>\n",
       "      <td>390</td>\n",
       "      <td>mask_colorful</td>\n",
       "    </tr>\n",
       "    <tr>\n",
       "      <th>3</th>\n",
       "      <td>2756.png</td>\n",
       "      <td>521</td>\n",
       "      <td>136</td>\n",
       "      <td>711</td>\n",
       "      <td>277</td>\n",
       "      <td>mask_colorful</td>\n",
       "    </tr>\n",
       "    <tr>\n",
       "      <th>4</th>\n",
       "      <td>6098.jpg</td>\n",
       "      <td>360</td>\n",
       "      <td>85</td>\n",
       "      <td>728</td>\n",
       "      <td>653</td>\n",
       "      <td>face_no_mask</td>\n",
       "    </tr>\n",
       "  </tbody>\n",
       "</table>\n",
       "</div>"
      ],
      "text/plain": [
       "       name   x1   x2   y1   y2       classname\n",
       "0  2756.png   69  126  294  392  face_with_mask\n",
       "1  2756.png  505   10  723  283  face_with_mask\n",
       "2  2756.png   75  252  264  390   mask_colorful\n",
       "3  2756.png  521  136  711  277   mask_colorful\n",
       "4  6098.jpg  360   85  728  653    face_no_mask"
      ]
     },
     "execution_count": 5,
     "metadata": {},
     "output_type": "execute_result"
    }
   ],
   "source": [
    "meta_data.head()"
   ]
  },
  {
   "cell_type": "code",
   "execution_count": 6,
   "id": "ee838ced",
   "metadata": {},
   "outputs": [
    {
     "name": "stdout",
     "output_type": "stream",
     "text": [
      "15412\n"
     ]
    }
   ],
   "source": [
    "print(len(meta_data))"
   ]
  },
  {
   "cell_type": "code",
   "execution_count": 7,
   "id": "d60a464b",
   "metadata": {},
   "outputs": [
    {
     "data": {
      "text/plain": [
       "array(['face_with_mask', 'mask_colorful', 'face_no_mask',\n",
       "       'face_with_mask_incorrect', 'mask_surgical', 'face_other_covering',\n",
       "       'scarf_bandana', 'eyeglasses', 'helmet', 'face_shield',\n",
       "       'sunglasses', 'hood', 'hat', 'goggles', 'hair_net', 'hijab_niqab',\n",
       "       'other', 'gas_mask', 'balaclava_ski_mask', 'turban'], dtype=object)"
      ]
     },
     "execution_count": 7,
     "metadata": {},
     "output_type": "execute_result"
    }
   ],
   "source": [
    "meta_data.classname.unique()"
   ]
  },
  {
   "cell_type": "code",
   "execution_count": 8,
   "id": "a0bce301",
   "metadata": {},
   "outputs": [
    {
     "data": {
      "text/plain": [
       "20"
      ]
     },
     "execution_count": 8,
     "metadata": {},
     "output_type": "execute_result"
    }
   ],
   "source": [
    "meta_data.classname.nunique()"
   ]
  },
  {
   "cell_type": "code",
   "execution_count": 9,
   "id": "6cdb6da4",
   "metadata": {
    "scrolled": true
   },
   "outputs": [
    {
     "data": {
      "image/png": "[encoded data removed]",
      "text/plain": [
       "<Figure size 576x576 with 1 Axes>"
      ]
     },
     "metadata": {
      "needs_background": "light"
     },
     "output_type": "display_data"
    }
   ],
   "source": [
    "sns.catplot(x='classname',kind='count',data=meta_data,height=8,aspect=1).fig.autofmt_xdate()"
   ]
  },
  {
   "cell_type": "code",
   "execution_count": 10,
   "id": "a1b70321",
   "metadata": {},
   "outputs": [
    {
     "name": "stdout",
     "output_type": "stream",
     "text": [
      "count of face with mask: 4180\n",
      "count of face no mask: 1569\n"
     ]
    }
   ],
   "source": [
    "## Counts of face_with_mask and face_no_mask\n",
    "face_with_mask=meta_data[meta_data[\"classname\"]==\"face_with_mask\"]\n",
    "face_no_mask=meta_data[meta_data[\"classname\"]==\"face_no_mask\"]\n",
    "print(\"count of face with mask: \"+str(len(face_with_mask))+\"\\ncount of face no mask: \"+str(len(face_no_mask)))"
   ]
  },
  {
   "cell_type": "code",
   "execution_count": 11,
   "id": "cbd250af",
   "metadata": {},
   "outputs": [],
   "source": [
    "#the number in [0] is the index "
   ]
  },
  {
   "cell_type": "code",
   "execution_count": 12,
   "id": "567ff7f2",
   "metadata": {},
   "outputs": [
    {
     "data": {
      "text/plain": [
       "'2756.png'"
      ]
     },
     "execution_count": 12,
     "metadata": {},
     "output_type": "execute_result"
    }
   ],
   "source": [
    "meta_name=meta_data[\"name\"][0] \n",
    "meta_name"
   ]
  },
  {
   "cell_type": "code",
   "execution_count": 13,
   "id": "96656567",
   "metadata": {},
   "outputs": [
    {
     "data": {
      "text/html": [
       "<div>\n",
       "<style scoped>\n",
       "    .dataframe tbody tr th:only-of-type {\n",
       "        vertical-align: middle;\n",
       "    }\n",
       "\n",
       "    .dataframe tbody tr th {\n",
       "        vertical-align: top;\n",
       "    }\n",
       "\n",
       "    .dataframe thead th {\n",
       "        text-align: right;\n",
       "    }\n",
       "</style>\n",
       "<table border=\"1\" class=\"dataframe\">\n",
       "  <thead>\n",
       "    <tr style=\"text-align: right;\">\n",
       "      <th></th>\n",
       "      <th>name</th>\n",
       "      <th>x1</th>\n",
       "      <th>x2</th>\n",
       "      <th>y1</th>\n",
       "      <th>y2</th>\n",
       "      <th>classname</th>\n",
       "    </tr>\n",
       "  </thead>\n",
       "  <tbody>\n",
       "    <tr>\n",
       "      <th>0</th>\n",
       "      <td>2756.png</td>\n",
       "      <td>69</td>\n",
       "      <td>126</td>\n",
       "      <td>294</td>\n",
       "      <td>392</td>\n",
       "      <td>face_with_mask</td>\n",
       "    </tr>\n",
       "    <tr>\n",
       "      <th>1</th>\n",
       "      <td>2756.png</td>\n",
       "      <td>505</td>\n",
       "      <td>10</td>\n",
       "      <td>723</td>\n",
       "      <td>283</td>\n",
       "      <td>face_with_mask</td>\n",
       "    </tr>\n",
       "    <tr>\n",
       "      <th>2</th>\n",
       "      <td>2756.png</td>\n",
       "      <td>75</td>\n",
       "      <td>252</td>\n",
       "      <td>264</td>\n",
       "      <td>390</td>\n",
       "      <td>mask_colorful</td>\n",
       "    </tr>\n",
       "    <tr>\n",
       "      <th>3</th>\n",
       "      <td>2756.png</td>\n",
       "      <td>521</td>\n",
       "      <td>136</td>\n",
       "      <td>711</td>\n",
       "      <td>277</td>\n",
       "      <td>mask_colorful</td>\n",
       "    </tr>\n",
       "  </tbody>\n",
       "</table>\n",
       "</div>"
      ],
      "text/plain": [
       "       name   x1   x2   y1   y2       classname\n",
       "0  2756.png   69  126  294  392  face_with_mask\n",
       "1  2756.png  505   10  723  283  face_with_mask\n",
       "2  2756.png   75  252  264  390   mask_colorful\n",
       "3  2756.png  521  136  711  277   mask_colorful"
      ]
     },
     "execution_count": 13,
     "metadata": {},
     "output_type": "execute_result"
    }
   ],
   "source": [
    "meta_data[meta_data[\"name\"]==meta_name]"
   ]
  },
  {
   "cell_type": "code",
   "execution_count": 14,
   "id": "d1381024",
   "metadata": {},
   "outputs": [],
   "source": [
    "# Explore 'images' data"
   ]
  },
  {
   "cell_type": "code",
   "execution_count": 15,
   "id": "0df80228",
   "metadata": {},
   "outputs": [],
   "source": [
    "## load image data\n",
    "images = r\"C:\\Anaconda_Python\\Python_Course_Material\\2021spring_machine_learning\\HW\\Project\\dataset\\images\""
   ]
  },
  {
   "cell_type": "code",
   "execution_count": 16,
   "id": "0c2569a6",
   "metadata": {},
   "outputs": [
    {
     "data": {
      "text/plain": [
       "<matplotlib.image.AxesImage at 0x1f3121749d0>"
      ]
     },
     "execution_count": 16,
     "metadata": {},
     "output_type": "execute_result"
    },
    {
     "data": {
      "text/plain": [
       "Text(0.5, 1.0, 'face_with_mask')"
      ]
     },
     "execution_count": 16,
     "metadata": {},
     "output_type": "execute_result"
    },
    {
     "data": {
      "text/plain": [
       "<matplotlib.image.AxesImage at 0x1f311d457c0>"
      ]
     },
     "execution_count": 16,
     "metadata": {},
     "output_type": "execute_result"
    },
    {
     "data": {
      "text/plain": [
       "Text(0.5, 1.0, 'face_with_mask')"
      ]
     },
     "execution_count": 16,
     "metadata": {},
     "output_type": "execute_result"
    },
    {
     "data": {
      "text/plain": [
       "<matplotlib.image.AxesImage at 0x1f311cc97f0>"
      ]
     },
     "execution_count": 16,
     "metadata": {},
     "output_type": "execute_result"
    },
    {
     "data": {
      "text/plain": [
       "Text(0.5, 1.0, 'mask_colorful')"
      ]
     },
     "execution_count": 16,
     "metadata": {},
     "output_type": "execute_result"
    },
    {
     "data": {
      "text/plain": [
       "<matplotlib.image.AxesImage at 0x1f311d45fa0>"
      ]
     },
     "execution_count": 16,
     "metadata": {},
     "output_type": "execute_result"
    },
    {
     "data": {
      "text/plain": [
       "Text(0.5, 1.0, 'mask_colorful')"
      ]
     },
     "execution_count": 16,
     "metadata": {},
     "output_type": "execute_result"
    },
    {
     "data": {
      "text/plain": [
       "<matplotlib.patches.Rectangle at 0x1f311d392b0>"
      ]
     },
     "execution_count": 16,
     "metadata": {},
     "output_type": "execute_result"
    },
    {
     "data": {
      "text/plain": [
       "<matplotlib.patches.Rectangle at 0x1f311c9d400>"
      ]
     },
     "execution_count": 16,
     "metadata": {},
     "output_type": "execute_result"
    },
    {
     "data": {
      "text/plain": [
       "<matplotlib.patches.Rectangle at 0x1f311c9d250>"
      ]
     },
     "execution_count": 16,
     "metadata": {},
     "output_type": "execute_result"
    },
    {
     "data": {
      "text/plain": [
       "<matplotlib.patches.Rectangle at 0x1f311cc9640>"
      ]
     },
     "execution_count": 16,
     "metadata": {},
     "output_type": "execute_result"
    },
    {
     "data": {
      "image/png": "[encoded data removed]",
      "text/plain": [
       "<Figure size 1080x1080 with 4 Axes>"
      ]
     },
     "metadata": {
      "needs_background": "light"
     },
     "output_type": "display_data"
    }
   ],
   "source": [
    "## plot image\n",
    "def img_reg(id):\n",
    "    meta_name=meta_data[\"name\"][id]\n",
    "    classname=meta_data[meta_data[\"name\"]==meta_name][\"classname\"]\n",
    "    reg=meta_data[meta_data[\"name\"]==meta_name][[\"x1\",\"x2\",\"y1\",\"y2\"]]\n",
    "    x1=reg[\"x1\"][id]\n",
    "    x2=reg[\"x2\"][id]\n",
    "    y1=reg[\"y1\"][id]\n",
    "    y2=reg[\"y2\"][id]\n",
    "    classname=classname[id]\n",
    "    images = r\"C:\\Anaconda_Python\\Python_Course_Material\\2021spring_machine_learning\\HW\\Project\\dataset\\images\"\n",
    "    img=plt.imread(os.path.join(images,meta_name))\n",
    "    return x1,x2,y1,y2,classname,img\n",
    "# Create suubplot\n",
    "fig,[ax1,ax2, ax3, ax4] = plt.subplots(nrows=1, ncols=4, figsize=(15,15))\n",
    "#first image\n",
    "x1,x2,y1,y2,classname,img=img_reg(0)\n",
    "ax1.imshow(img)\n",
    "rect = patches.Rectangle((x1,x2),y1-x1,y2-x2,linewidth=2,edgecolor='r',facecolor='none')\n",
    "ax1.set_title(classname)\n",
    "\n",
    "#second image\n",
    "x1,x2,y1,y2,classname,img=img_reg(1)\n",
    "ax2.imshow(img)\n",
    "rect2 = patches.Rectangle((x1,x2),y1-x1,y2-x2,linewidth=2,edgecolor='r',facecolor='none')\n",
    "ax2.set_title(classname)\n",
    "\n",
    "#third image\n",
    "x1,x2,y1,y2,classname,img=img_reg(2)\n",
    "ax3.imshow(img)\n",
    "rect3 = patches.Rectangle((x1,x2),y1-x1,y2-x2,linewidth=2,edgecolor='r',facecolor='none')\n",
    "ax3.set_title(classname)\n",
    "\n",
    "#four image\n",
    "x1,x2,y1,y2,classname,img=img_reg(3)\n",
    "ax4.imshow(img)\n",
    "rect4 = patches.Rectangle((x1,x2),y1-x1,y2-x2,linewidth=2,edgecolor='r',facecolor='none')\n",
    "ax4.set_title(classname)\n",
    "\n",
    "ax1.add_patch(rect)\n",
    "ax2.add_patch(rect2)\n",
    "ax3.add_patch(rect3)\n",
    "ax4.add_patch(rect4)\n",
    "\n",
    "plt.show()"
   ]
  },
  {
   "cell_type": "code",
   "execution_count": 17,
   "id": "57342f94",
   "metadata": {},
   "outputs": [],
   "source": [
    "# Explore 'annotations' data"
   ]
  },
  {
   "cell_type": "code",
   "execution_count": 18,
   "id": "807a8d9f",
   "metadata": {},
   "outputs": [],
   "source": [
    "directory = r\"C:\\Anaconda_Python\\Python_Course_Material\\2021spring_machine_learning\\HW\\Project\\dataset\\annotations\""
   ]
  },
  {
   "cell_type": "code",
   "execution_count": 19,
   "id": "359c3227",
   "metadata": {},
   "outputs": [],
   "source": [
    "def getJSON(filePathandName):\n",
    "    with open(filePathandName,'r') as f:\n",
    "        return json.load(f)"
   ]
  },
  {
   "cell_type": "code",
   "execution_count": 20,
   "id": "25ab2808",
   "metadata": {},
   "outputs": [
    {
     "data": {
      "text/plain": [
       "{'FileName': '2756.png',\n",
       " 'NumOfAnno': 4,\n",
       " 'Annotations': [{'isProtected': False,\n",
       "   'ID': 598039385457921920,\n",
       "   'BoundingBox': [69, 126, 294, 392],\n",
       "   'classname': 'face_with_mask',\n",
       "   'Confidence': 1,\n",
       "   'Attributes': {}},\n",
       "  {'isProtected': False,\n",
       "   'ID': 702410169516003712,\n",
       "   'BoundingBox': [505, 10, 723, 283],\n",
       "   'classname': 'face_with_mask',\n",
       "   'Confidence': 1,\n",
       "   'Attributes': {}},\n",
       "  {'isProtected': False,\n",
       "   'ID': 152706552218535680,\n",
       "   'BoundingBox': [75, 252, 264, 390],\n",
       "   'classname': 'mask_colorful',\n",
       "   'Confidence': 1,\n",
       "   'Attributes': {}},\n",
       "  {'isProtected': False,\n",
       "   'ID': 3262639018530855,\n",
       "   'BoundingBox': [521, 136, 711, 277],\n",
       "   'classname': 'mask_colorful',\n",
       "   'Confidence': 1,\n",
       "   'Attributes': {}}]}"
      ]
     },
     "execution_count": 20,
     "metadata": {},
     "output_type": "execute_result"
    }
   ],
   "source": [
    "jsonfiles= []\n",
    "for i in os.listdir(directory):\n",
    "    jsonfiles.append(getJSON(os.path.join(directory,i)))\n",
    "jsonfiles[878]"
   ]
  },
  {
   "cell_type": "code",
   "execution_count": 21,
   "id": "c681b819",
   "metadata": {},
   "outputs": [],
   "source": [
    "data = []\n",
    "img_size = 64\n",
    "mask = ['face_with_mask']\n",
    "non_mask = [\"face_no_mask\"]\n",
    "labels={'mask':0,'without mask':1}\n",
    "for i in meta_data[\"name\"].unique():\n",
    "    f = i+\".json\"\n",
    "    for j in getJSON(os.path.join(directory,f)).get(\"Annotations\"):\n",
    "        if j[\"classname\"] in mask:\n",
    "            x,y,w,h = j[\"BoundingBox\"]\n",
    "            img = cv2.imread(os.path.join(images,i),cv2.IMREAD_GRAYSCALE) #Note cv2.IMREAD_GRAYSCALE is the key to make X.shape (5749,50,50,1). If using 1 istead of cv2.IMREAD_GRAYSCALE, will get X.shape (5749,50,50,3)\n",
    "            img = img[y:h,x:w]\n",
    "            img = cv2.resize(img,(img_size,img_size))\n",
    "            data.append([img,labels[\"mask\"]])\n",
    "        if j[\"classname\"] in non_mask:\n",
    "            x,y,w,h = j[\"BoundingBox\"]\n",
    "            img = cv2.imread(os.path.join(images,i),cv2.IMREAD_GRAYSCALE)\n",
    "            img = img[y:h,x:w]\n",
    "            img = cv2.resize(img,(img_size,img_size))    \n",
    "            data.append([img,labels[\"without mask\"]])\n",
    "random.shuffle(data)   "
   ]
  },
  {
   "cell_type": "code",
   "execution_count": 22,
   "id": "f32c0788",
   "metadata": {},
   "outputs": [
    {
     "data": {
      "text/plain": [
       "array([[129, 110, 100, ..., 255, 255, 255],\n",
       "       [ 86,  84,  77, ..., 255, 255, 255],\n",
       "       [ 62,  61,  62, ..., 255, 255, 255],\n",
       "       ...,\n",
       "       [146, 149, 138, ...,  50,  52,  55],\n",
       "       [156, 153, 146, ...,  55,  58,  62],\n",
       "       [153, 153, 148, ...,  59,  64,  66]], dtype=uint8)"
      ]
     },
     "execution_count": 22,
     "metadata": {},
     "output_type": "execute_result"
    }
   ],
   "source": [
    "data[0][0]"
   ]
  },
  {
   "cell_type": "code",
   "execution_count": 23,
   "id": "607fb005",
   "metadata": {},
   "outputs": [
    {
     "data": {
      "text/plain": [
       "(64, 64)"
      ]
     },
     "execution_count": 23,
     "metadata": {},
     "output_type": "execute_result"
    }
   ],
   "source": [
    "data[0][0].shape"
   ]
  },
  {
   "cell_type": "code",
   "execution_count": 24,
   "id": "d0608aec",
   "metadata": {
    "scrolled": true
   },
   "outputs": [
    {
     "data": {
      "text/plain": [
       "1"
      ]
     },
     "execution_count": 24,
     "metadata": {},
     "output_type": "execute_result"
    }
   ],
   "source": [
    "data[0][1]"
   ]
  },
  {
   "cell_type": "code",
   "execution_count": 25,
   "id": "63e850e4",
   "metadata": {},
   "outputs": [
    {
     "data": {
      "text/plain": [
       "<matplotlib.image.AxesImage at 0x1f311e2b370>"
      ]
     },
     "execution_count": 25,
     "metadata": {},
     "output_type": "execute_result"
    },
    {
     "data": {
      "image/png": "[encoded data removed]",
      "text/plain": [
       "<Figure size 432x288 with 1 Axes>"
      ]
     },
     "metadata": {
      "needs_background": "light"
     },
     "output_type": "display_data"
    }
   ],
   "source": [
    "plt.imshow(data[0][0]) "
   ]
  },
  {
   "cell_type": "code",
   "execution_count": 26,
   "id": "02f82b3d",
   "metadata": {},
   "outputs": [
    {
     "data": {
      "text/plain": [
       "<matplotlib.image.AxesImage at 0x1f311bc7af0>"
      ]
     },
     "execution_count": 26,
     "metadata": {},
     "output_type": "execute_result"
    },
    {
     "data": {
      "image/png": "[encoded data removed]",
      "text/plain": [
       "<Figure size 432x288 with 1 Axes>"
      ]
     },
     "metadata": {
      "needs_background": "light"
     },
     "output_type": "display_data"
    }
   ],
   "source": [
    "plt.imshow(data[1][0])"
   ]
  },
  {
   "cell_type": "code",
   "execution_count": 27,
   "id": "30b5936a",
   "metadata": {
    "scrolled": true
   },
   "outputs": [
    {
     "name": "stderr",
     "output_type": "stream",
     "text": [
      "C:\\Anaconda_Python\\Anaconda_Software\\envs\\tensorflow\\lib\\site-packages\\seaborn\\_decorators.py:36: FutureWarning: Pass the following variable as a keyword arg: x. From version 0.12, the only valid positional argument will be `data`, and passing other arguments without an explicit keyword will result in an error or misinterpretation.\n",
      "  warnings.warn(\n"
     ]
    },
    {
     "data": {
      "text/plain": [
       "<AxesSubplot:ylabel='count'>"
      ]
     },
     "execution_count": 27,
     "metadata": {},
     "output_type": "execute_result"
    },
    {
     "name": "stdout",
     "output_type": "stream",
     "text": [
      "count of face with mask: 4180\n",
      "count of face no mask: 1569\n"
     ]
    },
    {
     "data": {
      "image/png": "[encoded data removed]",
      "text/plain": [
       "<Figure size 432x288 with 1 Axes>"
      ]
     },
     "metadata": {
      "needs_background": "light"
     },
     "output_type": "display_data"
    }
   ],
   "source": [
    "p = []\n",
    "Nmask = 0\n",
    "Nwtmask = 0\n",
    "for face in data:\n",
    "    if(face[1] == 0):\n",
    "        Nmask +=1\n",
    "        p.append(\"Mask\")\n",
    "    else:\n",
    "        p.append(\"No Mask\")\n",
    "        Nwtmask +=1\n",
    "sns.countplot(p)\n",
    "print(\"count of face with mask: \"+str(Nmask)+\"\\ncount of face no mask: \"+str(Nwtmask))"
   ]
  },
  {
   "cell_type": "code",
   "execution_count": 28,
   "id": "2eea7398",
   "metadata": {},
   "outputs": [],
   "source": [
    "X = []\n",
    "Y = []\n",
    "for features,label in data:\n",
    "    X.append(features)\n",
    "    Y.append(label)"
   ]
  },
  {
   "cell_type": "code",
   "execution_count": 29,
   "id": "b2cff9bc",
   "metadata": {},
   "outputs": [],
   "source": [
    "# Normalize data\n",
    "import numpy as np\n",
    "img_size = 64 #通常是2的倍数\n",
    "X=np.array(X)/255.0 # 255 is the range 0-1\n",
    "X=X.reshape(-1,img_size, img_size, 1) # Neutral Network needs 4 dimensions; 1 is grey scaler imgages\n",
    "Y=np.array(Y)\n",
    "from keras.utils import np_utils\n",
    "Y=np_utils.to_categorical(Y)"
   ]
  },
  {
   "cell_type": "code",
   "execution_count": 30,
   "id": "99c61ee4",
   "metadata": {},
   "outputs": [
    {
     "data": {
      "text/plain": [
       "((5749, 64, 64, 1), (5749, 2))"
      ]
     },
     "execution_count": 30,
     "metadata": {},
     "output_type": "execute_result"
    }
   ],
   "source": [
    "X.shape, Y.shape"
   ]
  },
  {
   "cell_type": "code",
   "execution_count": 31,
   "id": "c2d33e19",
   "metadata": {},
   "outputs": [],
   "source": [
    "from keras.layers import LSTM\n",
    "model=Sequential()\n",
    "model.add(Conv2D(100,(3,3),input_shape=X.shape[1:],activation='relu',strides=2))\n",
    "model.add(MaxPooling2D(pool_size=(2,2)))\n",
    "model.add(Conv2D(64,(3,3),activation='relu'))\n",
    "model.add(MaxPooling2D(pool_size=(2,2)))\n",
    "model.add(Flatten())\n",
    "model.add(Dense(50, activation='relu'))\n",
    "model.add(Dropout(0.2))\n",
    "\n",
    "model.add(Dense(2, activation='softmax'))\n",
    "\n",
    "model.compile(loss='categorical_crossentropy',optimizer='adam',metrics=['accuracy'])"
   ]
  },
  {
   "cell_type": "code",
   "execution_count": 32,
   "id": "8cca6639",
   "metadata": {},
   "outputs": [
    {
     "name": "stdout",
     "output_type": "stream",
     "text": [
      "Model: \"sequential\"\n",
      "_________________________________________________________________\n",
      "Layer (type)                 Output Shape              Param #   \n",
      "=================================================================\n",
      "conv2d (Conv2D)              (None, 31, 31, 100)       1000      \n",
      "_________________________________________________________________\n",
      "max_pooling2d (MaxPooling2D) (None, 15, 15, 100)       0         \n",
      "_________________________________________________________________\n",
      "conv2d_1 (Conv2D)            (None, 13, 13, 64)        57664     \n",
      "_________________________________________________________________\n",
      "max_pooling2d_1 (MaxPooling2 (None, 6, 6, 64)          0         \n",
      "_________________________________________________________________\n",
      "flatten (Flatten)            (None, 2304)              0         \n",
      "_________________________________________________________________\n",
      "dense (Dense)                (None, 50)                115250    \n",
      "_________________________________________________________________\n",
      "dropout (Dropout)            (None, 50)                0         \n",
      "_________________________________________________________________\n",
      "dense_1 (Dense)              (None, 2)                 102       \n",
      "=================================================================\n",
      "Total params: 174,016\n",
      "Trainable params: 174,016\n",
      "Non-trainable params: 0\n",
      "_________________________________________________________________\n"
     ]
    }
   ],
   "source": [
    "model.summary()"
   ]
  },
  {
   "cell_type": "code",
   "execution_count": null,
   "id": "ab24182f",
   "metadata": {},
   "outputs": [],
   "source": []
  },
  {
   "cell_type": "code",
   "execution_count": 33,
   "id": "36cdf33d",
   "metadata": {},
   "outputs": [
    {
     "name": "stdout",
     "output_type": "stream",
     "text": [
      "Epoch 1/30\n",
      "1035/1035 [==============================] - 10s 10ms/step - loss: 0.5107 - accuracy: 0.7379 - val_loss: 0.4349 - val_accuracy: 0.8278\n",
      "Epoch 2/30\n",
      "1035/1035 [==============================] - 11s 11ms/step - loss: 0.4343 - accuracy: 0.7938 - val_loss: 0.4002 - val_accuracy: 0.8226\n",
      "Epoch 3/30\n",
      "1035/1035 [==============================] - 11s 11ms/step - loss: 0.3893 - accuracy: 0.8288 - val_loss: 0.3584 - val_accuracy: 0.8504\n",
      "Epoch 4/30\n",
      "1035/1035 [==============================] - 11s 11ms/step - loss: 0.3388 - accuracy: 0.8494 - val_loss: 0.4019 - val_accuracy: 0.8574\n",
      "Epoch 5/30\n",
      "1035/1035 [==============================] - 11s 11ms/step - loss: 0.3071 - accuracy: 0.8692 - val_loss: 0.3318 - val_accuracy: 0.8591\n",
      "Epoch 6/30\n",
      "1035/1035 [==============================] - 11s 11ms/step - loss: 0.2661 - accuracy: 0.8827 - val_loss: 0.2873 - val_accuracy: 0.8643\n",
      "Epoch 7/30\n",
      "1035/1035 [==============================] - 10s 10ms/step - loss: 0.2489 - accuracy: 0.8978 - val_loss: 0.2807 - val_accuracy: 0.8817\n",
      "Epoch 8/30\n",
      "1035/1035 [==============================] - 11s 10ms/step - loss: 0.2223 - accuracy: 0.9059 - val_loss: 0.2518 - val_accuracy: 0.8922\n",
      "Epoch 9/30\n",
      "1035/1035 [==============================] - 11s 10ms/step - loss: 0.2069 - accuracy: 0.9128 - val_loss: 0.2375 - val_accuracy: 0.8922\n",
      "Epoch 10/30\n",
      "1035/1035 [==============================] - 11s 10ms/step - loss: 0.1892 - accuracy: 0.9219 - val_loss: 0.2388 - val_accuracy: 0.9078\n",
      "Epoch 11/30\n",
      "1035/1035 [==============================] - 9s 9ms/step - loss: 0.1681 - accuracy: 0.9275 - val_loss: 0.2702 - val_accuracy: 0.8800\n",
      "Epoch 12/30\n",
      "1035/1035 [==============================] - 11s 10ms/step - loss: 0.1553 - accuracy: 0.9347 - val_loss: 0.3747 - val_accuracy: 0.8678\n",
      "Epoch 13/30\n",
      "1035/1035 [==============================] - 11s 10ms/step - loss: 0.1297 - accuracy: 0.9465 - val_loss: 0.3151 - val_accuracy: 0.8748\n",
      "Epoch 14/30\n",
      "1035/1035 [==============================] - 11s 10ms/step - loss: 0.1182 - accuracy: 0.9526 - val_loss: 0.2952 - val_accuracy: 0.8991\n",
      "Epoch 15/30\n",
      "1035/1035 [==============================] - 10s 10ms/step - loss: 0.1185 - accuracy: 0.9513 - val_loss: 0.3271 - val_accuracy: 0.8922\n",
      "Epoch 16/30\n",
      "1035/1035 [==============================] - 10s 10ms/step - loss: 0.0963 - accuracy: 0.9610 - val_loss: 0.2743 - val_accuracy: 0.9061\n",
      "Epoch 17/30\n",
      "1035/1035 [==============================] - 11s 11ms/step - loss: 0.0819 - accuracy: 0.9662 - val_loss: 0.2670 - val_accuracy: 0.9113\n",
      "Epoch 18/30\n",
      "1035/1035 [==============================] - 11s 11ms/step - loss: 0.0868 - accuracy: 0.9627 - val_loss: 0.2962 - val_accuracy: 0.9009\n",
      "Epoch 19/30\n",
      "1035/1035 [==============================] - 11s 10ms/step - loss: 0.0709 - accuracy: 0.9716 - val_loss: 0.3872 - val_accuracy: 0.8870\n",
      "Epoch 20/30\n",
      "1035/1035 [==============================] - 11s 11ms/step - loss: 0.0670 - accuracy: 0.9743 - val_loss: 0.3442 - val_accuracy: 0.8974\n",
      "Epoch 21/30\n",
      "1035/1035 [==============================] - 11s 11ms/step - loss: 0.0772 - accuracy: 0.9710 - val_loss: 0.5130 - val_accuracy: 0.8730\n",
      "Epoch 22/30\n",
      "1035/1035 [==============================] - 11s 11ms/step - loss: 0.0588 - accuracy: 0.9791 - val_loss: 0.4422 - val_accuracy: 0.8800\n",
      "Epoch 23/30\n",
      "1035/1035 [==============================] - 11s 10ms/step - loss: 0.0609 - accuracy: 0.9784 - val_loss: 0.3692 - val_accuracy: 0.8852\n",
      "Epoch 24/30\n",
      "1035/1035 [==============================] - 10s 10ms/step - loss: 0.0523 - accuracy: 0.9793 - val_loss: 0.3150 - val_accuracy: 0.9096\n",
      "Epoch 25/30\n",
      "1035/1035 [==============================] - 10s 10ms/step - loss: 0.0479 - accuracy: 0.9813 - val_loss: 0.4381 - val_accuracy: 0.8783\n",
      "Epoch 26/30\n",
      "1035/1035 [==============================] - 10s 10ms/step - loss: 0.0484 - accuracy: 0.9813 - val_loss: 0.2751 - val_accuracy: 0.9252\n",
      "Epoch 27/30\n",
      "1035/1035 [==============================] - 11s 11ms/step - loss: 0.0525 - accuracy: 0.9797 - val_loss: 0.4204 - val_accuracy: 0.8991\n",
      "Epoch 28/30\n",
      "1035/1035 [==============================] - 10s 10ms/step - loss: 0.0439 - accuracy: 0.9863 - val_loss: 0.3611 - val_accuracy: 0.9235\n",
      "Epoch 29/30\n",
      "1035/1035 [==============================] - 11s 10ms/step - loss: 0.0552 - accuracy: 0.9805 - val_loss: 0.3880 - val_accuracy: 0.8991\n",
      "Epoch 30/30\n",
      "1035/1035 [==============================] - 11s 11ms/step - loss: 0.0488 - accuracy: 0.9855 - val_loss: 0.3856 - val_accuracy: 0.8957\n"
     ]
    }
   ],
   "source": [
    "history = model.fit(X,Y,epochs=30,batch_size=5, verbose=1,validation_split = 0.1)"
   ]
  },
  {
   "cell_type": "code",
   "execution_count": 34,
   "id": "5df8d05c",
   "metadata": {},
   "outputs": [],
   "source": [
    "## This model is not working!!!\n",
    "#model = Sequential()\n",
    "\n",
    "#model.add(Conv2D(32, (3, 3), padding = \"same\", activation='relu', input_shape=(124,124,3)))\n",
    "#model.add(Conv2D(64, (3, 3), activation='relu'))\n",
    "#model.add(Conv2D(128, (3, 3), activation='relu'))\n",
    "#model.add(MaxPooling2D(pool_size=(2,2)))\n",
    "#model.add(Dropout(0.25))\n",
    " \n",
    "#model.add(Flatten())\n",
    "#model.add(Dropout(0.5))\n",
    "#model.add(Dense(50, activation='relu'))\n",
    "#model.add(Dropout(0.5))\n",
    "#model.add(Dense(1, activation='sigmoid'))\n",
    "\n",
    "#model.compile(loss='categorical_crossentropy',optimizer='adam',metrics=['accuracy'])"
   ]
  },
  {
   "cell_type": "code",
   "execution_count": 35,
   "id": "d7e84937",
   "metadata": {},
   "outputs": [
    {
     "data": {
      "text/html": [
       "<div>\n",
       "<style scoped>\n",
       "    .dataframe tbody tr th:only-of-type {\n",
       "        vertical-align: middle;\n",
       "    }\n",
       "\n",
       "    .dataframe tbody tr th {\n",
       "        vertical-align: top;\n",
       "    }\n",
       "\n",
       "    .dataframe thead th {\n",
       "        text-align: right;\n",
       "    }\n",
       "</style>\n",
       "<table border=\"1\" class=\"dataframe\">\n",
       "  <thead>\n",
       "    <tr style=\"text-align: right;\">\n",
       "      <th></th>\n",
       "      <th>loss</th>\n",
       "      <th>accuracy</th>\n",
       "      <th>val_loss</th>\n",
       "      <th>val_accuracy</th>\n",
       "    </tr>\n",
       "  </thead>\n",
       "  <tbody>\n",
       "    <tr>\n",
       "      <th>0</th>\n",
       "      <td>0.510742</td>\n",
       "      <td>0.737920</td>\n",
       "      <td>0.434863</td>\n",
       "      <td>0.827826</td>\n",
       "    </tr>\n",
       "    <tr>\n",
       "      <th>1</th>\n",
       "      <td>0.434331</td>\n",
       "      <td>0.793777</td>\n",
       "      <td>0.400169</td>\n",
       "      <td>0.822609</td>\n",
       "    </tr>\n",
       "    <tr>\n",
       "      <th>2</th>\n",
       "      <td>0.389251</td>\n",
       "      <td>0.828759</td>\n",
       "      <td>0.358363</td>\n",
       "      <td>0.850435</td>\n",
       "    </tr>\n",
       "    <tr>\n",
       "      <th>3</th>\n",
       "      <td>0.338762</td>\n",
       "      <td>0.849440</td>\n",
       "      <td>0.401873</td>\n",
       "      <td>0.857391</td>\n",
       "    </tr>\n",
       "    <tr>\n",
       "      <th>4</th>\n",
       "      <td>0.307149</td>\n",
       "      <td>0.869153</td>\n",
       "      <td>0.331794</td>\n",
       "      <td>0.859130</td>\n",
       "    </tr>\n",
       "    <tr>\n",
       "      <th>5</th>\n",
       "      <td>0.266117</td>\n",
       "      <td>0.882683</td>\n",
       "      <td>0.287252</td>\n",
       "      <td>0.864348</td>\n",
       "    </tr>\n",
       "    <tr>\n",
       "      <th>6</th>\n",
       "      <td>0.248933</td>\n",
       "      <td>0.897758</td>\n",
       "      <td>0.280710</td>\n",
       "      <td>0.881739</td>\n",
       "    </tr>\n",
       "    <tr>\n",
       "      <th>7</th>\n",
       "      <td>0.222323</td>\n",
       "      <td>0.905876</td>\n",
       "      <td>0.251803</td>\n",
       "      <td>0.892174</td>\n",
       "    </tr>\n",
       "    <tr>\n",
       "      <th>8</th>\n",
       "      <td>0.206853</td>\n",
       "      <td>0.912833</td>\n",
       "      <td>0.237492</td>\n",
       "      <td>0.892174</td>\n",
       "    </tr>\n",
       "    <tr>\n",
       "      <th>9</th>\n",
       "      <td>0.189234</td>\n",
       "      <td>0.921917</td>\n",
       "      <td>0.238839</td>\n",
       "      <td>0.907826</td>\n",
       "    </tr>\n",
       "    <tr>\n",
       "      <th>10</th>\n",
       "      <td>0.168116</td>\n",
       "      <td>0.927522</td>\n",
       "      <td>0.270181</td>\n",
       "      <td>0.880000</td>\n",
       "    </tr>\n",
       "    <tr>\n",
       "      <th>11</th>\n",
       "      <td>0.155347</td>\n",
       "      <td>0.934673</td>\n",
       "      <td>0.374707</td>\n",
       "      <td>0.867826</td>\n",
       "    </tr>\n",
       "    <tr>\n",
       "      <th>12</th>\n",
       "      <td>0.129716</td>\n",
       "      <td>0.946463</td>\n",
       "      <td>0.315057</td>\n",
       "      <td>0.874783</td>\n",
       "    </tr>\n",
       "    <tr>\n",
       "      <th>13</th>\n",
       "      <td>0.118235</td>\n",
       "      <td>0.952648</td>\n",
       "      <td>0.295169</td>\n",
       "      <td>0.899130</td>\n",
       "    </tr>\n",
       "    <tr>\n",
       "      <th>14</th>\n",
       "      <td>0.118544</td>\n",
       "      <td>0.951295</td>\n",
       "      <td>0.327065</td>\n",
       "      <td>0.892174</td>\n",
       "    </tr>\n",
       "    <tr>\n",
       "      <th>15</th>\n",
       "      <td>0.096272</td>\n",
       "      <td>0.960959</td>\n",
       "      <td>0.274295</td>\n",
       "      <td>0.906087</td>\n",
       "    </tr>\n",
       "    <tr>\n",
       "      <th>16</th>\n",
       "      <td>0.081923</td>\n",
       "      <td>0.966177</td>\n",
       "      <td>0.267029</td>\n",
       "      <td>0.911304</td>\n",
       "    </tr>\n",
       "    <tr>\n",
       "      <th>17</th>\n",
       "      <td>0.086791</td>\n",
       "      <td>0.962698</td>\n",
       "      <td>0.296208</td>\n",
       "      <td>0.900870</td>\n",
       "    </tr>\n",
       "    <tr>\n",
       "      <th>18</th>\n",
       "      <td>0.070881</td>\n",
       "      <td>0.971589</td>\n",
       "      <td>0.387249</td>\n",
       "      <td>0.886957</td>\n",
       "    </tr>\n",
       "    <tr>\n",
       "      <th>19</th>\n",
       "      <td>0.067033</td>\n",
       "      <td>0.974295</td>\n",
       "      <td>0.344163</td>\n",
       "      <td>0.897391</td>\n",
       "    </tr>\n",
       "    <tr>\n",
       "      <th>20</th>\n",
       "      <td>0.077166</td>\n",
       "      <td>0.971009</td>\n",
       "      <td>0.512952</td>\n",
       "      <td>0.873043</td>\n",
       "    </tr>\n",
       "    <tr>\n",
       "      <th>21</th>\n",
       "      <td>0.058771</td>\n",
       "      <td>0.979126</td>\n",
       "      <td>0.442243</td>\n",
       "      <td>0.880000</td>\n",
       "    </tr>\n",
       "    <tr>\n",
       "      <th>22</th>\n",
       "      <td>0.060911</td>\n",
       "      <td>0.978353</td>\n",
       "      <td>0.369248</td>\n",
       "      <td>0.885217</td>\n",
       "    </tr>\n",
       "    <tr>\n",
       "      <th>23</th>\n",
       "      <td>0.052326</td>\n",
       "      <td>0.979320</td>\n",
       "      <td>0.315016</td>\n",
       "      <td>0.909565</td>\n",
       "    </tr>\n",
       "    <tr>\n",
       "      <th>24</th>\n",
       "      <td>0.047914</td>\n",
       "      <td>0.981252</td>\n",
       "      <td>0.438135</td>\n",
       "      <td>0.878261</td>\n",
       "    </tr>\n",
       "    <tr>\n",
       "      <th>25</th>\n",
       "      <td>0.048410</td>\n",
       "      <td>0.981252</td>\n",
       "      <td>0.275062</td>\n",
       "      <td>0.925217</td>\n",
       "    </tr>\n",
       "    <tr>\n",
       "      <th>26</th>\n",
       "      <td>0.052476</td>\n",
       "      <td>0.979706</td>\n",
       "      <td>0.420406</td>\n",
       "      <td>0.899130</td>\n",
       "    </tr>\n",
       "    <tr>\n",
       "      <th>27</th>\n",
       "      <td>0.043936</td>\n",
       "      <td>0.986278</td>\n",
       "      <td>0.361111</td>\n",
       "      <td>0.923478</td>\n",
       "    </tr>\n",
       "    <tr>\n",
       "      <th>28</th>\n",
       "      <td>0.055190</td>\n",
       "      <td>0.980479</td>\n",
       "      <td>0.387980</td>\n",
       "      <td>0.899130</td>\n",
       "    </tr>\n",
       "    <tr>\n",
       "      <th>29</th>\n",
       "      <td>0.048810</td>\n",
       "      <td>0.985504</td>\n",
       "      <td>0.385595</td>\n",
       "      <td>0.895652</td>\n",
       "    </tr>\n",
       "  </tbody>\n",
       "</table>\n",
       "</div>"
      ],
      "text/plain": [
       "        loss  accuracy  val_loss  val_accuracy\n",
       "0   0.510742  0.737920  0.434863      0.827826\n",
       "1   0.434331  0.793777  0.400169      0.822609\n",
       "2   0.389251  0.828759  0.358363      0.850435\n",
       "3   0.338762  0.849440  0.401873      0.857391\n",
       "4   0.307149  0.869153  0.331794      0.859130\n",
       "5   0.266117  0.882683  0.287252      0.864348\n",
       "6   0.248933  0.897758  0.280710      0.881739\n",
       "7   0.222323  0.905876  0.251803      0.892174\n",
       "8   0.206853  0.912833  0.237492      0.892174\n",
       "9   0.189234  0.921917  0.238839      0.907826\n",
       "10  0.168116  0.927522  0.270181      0.880000\n",
       "11  0.155347  0.934673  0.374707      0.867826\n",
       "12  0.129716  0.946463  0.315057      0.874783\n",
       "13  0.118235  0.952648  0.295169      0.899130\n",
       "14  0.118544  0.951295  0.327065      0.892174\n",
       "15  0.096272  0.960959  0.274295      0.906087\n",
       "16  0.081923  0.966177  0.267029      0.911304\n",
       "17  0.086791  0.962698  0.296208      0.900870\n",
       "18  0.070881  0.971589  0.387249      0.886957\n",
       "19  0.067033  0.974295  0.344163      0.897391\n",
       "20  0.077166  0.971009  0.512952      0.873043\n",
       "21  0.058771  0.979126  0.442243      0.880000\n",
       "22  0.060911  0.978353  0.369248      0.885217\n",
       "23  0.052326  0.979320  0.315016      0.909565\n",
       "24  0.047914  0.981252  0.438135      0.878261\n",
       "25  0.048410  0.981252  0.275062      0.925217\n",
       "26  0.052476  0.979706  0.420406      0.899130\n",
       "27  0.043936  0.986278  0.361111      0.923478\n",
       "28  0.055190  0.980479  0.387980      0.899130\n",
       "29  0.048810  0.985504  0.385595      0.895652"
      ]
     },
     "execution_count": 35,
     "metadata": {},
     "output_type": "execute_result"
    }
   ],
   "source": [
    "pd.DataFrame(history.history)"
   ]
  },
  {
   "cell_type": "code",
   "execution_count": 36,
   "id": "31d7630d",
   "metadata": {},
   "outputs": [
    {
     "data": {
      "text/plain": [
       "[<matplotlib.lines.Line2D at 0x1f317a78550>]"
      ]
     },
     "execution_count": 36,
     "metadata": {},
     "output_type": "execute_result"
    },
    {
     "data": {
      "text/plain": [
       "[<matplotlib.lines.Line2D at 0x1f317a789a0>]"
      ]
     },
     "execution_count": 36,
     "metadata": {},
     "output_type": "execute_result"
    },
    {
     "data": {
      "text/plain": [
       "Text(0.5, 1.0, 'Training Accuracy vs Validation Accuracy')"
      ]
     },
     "execution_count": 36,
     "metadata": {},
     "output_type": "execute_result"
    },
    {
     "data": {
      "text/plain": [
       "Text(0, 0.5, 'Accuracy')"
      ]
     },
     "execution_count": 36,
     "metadata": {},
     "output_type": "execute_result"
    },
    {
     "data": {
      "text/plain": [
       "Text(0.5, 0, 'Epoch')"
      ]
     },
     "execution_count": 36,
     "metadata": {},
     "output_type": "execute_result"
    },
    {
     "data": {
      "text/plain": [
       "<matplotlib.legend.Legend at 0x1f317a78ca0>"
      ]
     },
     "execution_count": 36,
     "metadata": {},
     "output_type": "execute_result"
    },
    {
     "data": {
      "image/png": "[encoded data removed]",
      "text/plain": [
       "<Figure size 432x288 with 1 Axes>"
      ]
     },
     "metadata": {
      "needs_background": "light"
     },
     "output_type": "display_data"
    }
   ],
   "source": [
    "plt.plot(history.history['accuracy'],'g')\n",
    "plt.plot(history.history['val_accuracy'],'b')\n",
    "plt.title('Training Accuracy vs Validation Accuracy')\n",
    "plt.ylabel('Accuracy')\n",
    "plt.xlabel('Epoch')\n",
    "plt.legend(['Train', 'Validation'], loc='upper left')\n",
    "plt.show()"
   ]
  },
  {
   "cell_type": "code",
   "execution_count": 37,
   "id": "b194d18a",
   "metadata": {},
   "outputs": [
    {
     "data": {
      "text/plain": [
       "<AxesSubplot:>"
      ]
     },
     "execution_count": 37,
     "metadata": {},
     "output_type": "execute_result"
    },
    {
     "data": {
      "text/plain": [
       "Text(0, 0.5, 'accuracy')"
      ]
     },
     "execution_count": 37,
     "metadata": {},
     "output_type": "execute_result"
    },
    {
     "data": {
      "text/plain": [
       "<AxesSubplot:label='8cf82339-6d44-48ad-ab4c-f46c9915d1bf'>"
      ]
     },
     "execution_count": 37,
     "metadata": {},
     "output_type": "execute_result"
    },
    {
     "data": {
      "text/plain": [
       "Text(0, 0.5, 'loss')"
      ]
     },
     "execution_count": 37,
     "metadata": {},
     "output_type": "execute_result"
    },
    {
     "data": {
      "image/png": "[encoded data removed]",
      "text/plain": [
       "<Figure size 432x288 with 2 Axes>"
      ]
     },
     "metadata": {
      "needs_background": "light"
     },
     "output_type": "display_data"
    }
   ],
   "source": [
    "# To find the best Epoch numbers\n",
    "df = pd.DataFrame(history.history)\n",
    "df[['accuracy', 'val_accuracy']].plot()\n",
    "plt.ylabel(\"accuracy\")\n",
    "df[['loss', 'val_loss']].plot(linestyle='--', ax=plt.twinx())\n",
    "plt.ylabel(\"loss\")\n",
    "# we only care the orange line, where around 11-12, is the best point"
   ]
  },
  {
   "cell_type": "code",
   "execution_count": 38,
   "id": "67de83f8",
   "metadata": {},
   "outputs": [
    {
     "name": "stdout",
     "output_type": "stream",
     "text": [
      "Test loss: 0.050\n",
      "Test Accuracy: 0.987\n"
     ]
    }
   ],
   "source": [
    "score = model.evaluate(X, Y, verbose=0)\n",
    "print(\"Test loss: {:.3f}\".format(score[0]))\n",
    "print(\"Test Accuracy: {:.3f}\".format(score[1]))"
   ]
  },
  {
   "cell_type": "code",
   "execution_count": 39,
   "id": "de559dcf",
   "metadata": {},
   "outputs": [
    {
     "name": "stdout",
     "output_type": "stream",
     "text": [
      "180/180 [==============================] - 2s 14ms/step - loss: 0.0499 - accuracy: 0.9873\n",
      "[0.04991455003619194, 0.9873021245002747]\n"
     ]
    }
   ],
   "source": [
    "print(model.evaluate(X, Y))"
   ]
  },
  {
   "cell_type": "code",
   "execution_count": 40,
   "id": "fe89a28e",
   "metadata": {},
   "outputs": [],
   "source": [
    "from keras.wrappers.scikit_learn import KerasClassifier, KerasRegressor # wrappers is designed for scikit-learn\n",
    "from sklearn.model_selection import GridSearchCV\n",
    "\n",
    "def make_model(optimizer=\"adam\", hidden_size=50):\n",
    "    model = Sequential([\n",
    "        Conv2D(100,(3,3),input_shape=X.shape[1:],activation='relu',strides=2),\n",
    "        MaxPooling2D(pool_size=(2,2)),\n",
    "        Conv2D(64,(3,3),activation='relu'),\n",
    "        MaxPooling2D(pool_size=(2,2)),\n",
    "        Flatten(),\n",
    "        Dense(50, activation='relu'),\n",
    "        Dropout(0.2),\n",
    "        Dense(2, activation='softmax'),\n",
    "    ])\n",
    "    model.compile(optimizer=optimizer, loss=\"categorical_crossentropy\", metrics=['accuracy'])\n",
    "    return model\n",
    "\n",
    "clf = KerasClassifier(make_model)\n",
    "\n",
    "param_grid = {'epochs': [1, 5, 10],  # epochs is fit parameter, not in make_model!\n",
    "              'hidden_size': [32, 64, 256]} # 9 different models\n",
    "\n",
    "grid = GridSearchCV(clf, param_grid=param_grid,return_train_score=True)"
   ]
  },
  {
   "cell_type": "code",
   "execution_count": null,
   "id": "c04a54fa",
   "metadata": {},
   "outputs": [
    {
     "name": "stdout",
     "output_type": "stream",
     "text": [
      "144/144 [==============================] - 7s 47ms/step - loss: 0.5457 - accuracy: 0.7262\n",
      "36/36 [==============================] - 0s 12ms/step - loss: 0.4569 - accuracy: 0.7409\n",
      "144/144 [==============================] - 2s 13ms/step - loss: 0.4716 - accuracy: 0.7343\n",
      "144/144 [==============================] - 7s 50ms/step - loss: 0.5498 - accuracy: 0.7267\n",
      "36/36 [==============================] - 1s 16ms/step - loss: 0.4971 - accuracy: 0.7191\n",
      "144/144 [==============================] - 2s 16ms/step - loss: 0.4915 - accuracy: 0.7295\n",
      "144/144 [==============================] - 8s 53ms/step - loss: 0.5358 - accuracy: 0.7236\n",
      "36/36 [==============================] - 1s 15ms/step - loss: 0.4615 - accuracy: 0.7322\n",
      "144/144 [==============================] - 2s 15ms/step - loss: 0.4590 - accuracy: 0.7315\n",
      "144/144 [==============================] - 7s 51ms/step - loss: 0.5401 - accuracy: 0.7275\n",
      "36/36 [==============================] - 1s 15ms/step - loss: 0.4907 - accuracy: 0.7417\n",
      "144/144 [==============================] - 2s 15ms/step - loss: 0.4749 - accuracy: 0.7389\n",
      "144/144 [==============================] - 8s 53ms/step - loss: 0.5471 - accuracy: 0.7233 1s - loss: 0.5560 - accuracy:  - ETA: 1s - los\n",
      "36/36 [==============================] - 0s 12ms/step - loss: 0.4904 - accuracy: 0.7285\n",
      "144/144 [==============================] - 2s 15ms/step - loss: 0.4800 - accuracy: 0.7274\n",
      "144/144 [==============================] - 6s 44ms/step - loss: 0.5318 - accuracy: 0.7260\n",
      "36/36 [==============================] - 0s 13ms/step - loss: 0.4651 - accuracy: 0.7661\n",
      "144/144 [==============================] - 2s 13ms/step - loss: 0.4742 - accuracy: 0.7482\n",
      "144/144 [==============================] - 6s 44ms/step - loss: 0.5527 - accuracy: 0.7271\n",
      "36/36 [==============================] - 0s 13ms/step - loss: 0.5005 - accuracy: 0.7191\n",
      "144/144 [==============================] - 2s 13ms/step - loss: 0.4917 - accuracy: 0.7295\n",
      "144/144 [==============================] - 6s 41ms/step - loss: 0.5481 - accuracy: 0.7254\n",
      "36/36 [==============================] - 0s 11ms/step - loss: 0.4857 - accuracy: 0.7313\n",
      "144/144 [==============================] - 2s 13ms/step - loss: 0.4889 - accuracy: 0.7260\n",
      "144/144 [==============================] - 6s 43ms/step - loss: 0.5326 - accuracy: 0.7323\n",
      "36/36 [==============================] - 0s 12ms/step - loss: 0.4769 - accuracy: 0.7365\n",
      "144/144 [==============================] - 2s 13ms/step - loss: 0.4610 - accuracy: 0.7504\n",
      "144/144 [==============================] - 6s 45ms/step - loss: 0.5357 - accuracy: 0.7261\n",
      "36/36 [==============================] - 0s 13ms/step - loss: 0.4728 - accuracy: 0.7406\n",
      "144/144 [==============================] - 2s 13ms/step - loss: 0.4654 - accuracy: 0.7378\n",
      "144/144 [==============================] - 6s 43ms/step - loss: 0.5549 - accuracy: 0.7262\n",
      "36/36 [==============================] - 0s 12ms/step - loss: 0.4886 - accuracy: 0.7478\n",
      "144/144 [==============================] - 2s 13ms/step - loss: 0.4970 - accuracy: 0.7365\n",
      "144/144 [==============================] - 6s 40ms/step - loss: 0.5367 - accuracy: 0.7306\n",
      "36/36 [==============================] - 0s 12ms/step - loss: 0.4695 - accuracy: 0.7443\n",
      "144/144 [==============================] - 2s 13ms/step - loss: 0.4653 - accuracy: 0.7502\n",
      "144/144 [==============================] - 6s 42ms/step - loss: 0.5277 - accuracy: 0.7260\n",
      "36/36 [==============================] - 0s 12ms/step - loss: 0.4656 - accuracy: 0.7670\n",
      "144/144 [==============================] - 2s 13ms/step - loss: 0.4587 - accuracy: 0.7636\n",
      "144/144 [==============================] - 6s 44ms/step - loss: 0.5455 - accuracy: 0.7256\n",
      "36/36 [==============================] - 0s 13ms/step - loss: 0.4905 - accuracy: 0.7287\n",
      "144/144 [==============================] - 2s 13ms/step - loss: 0.4777 - accuracy: 0.7269\n",
      "144/144 [==============================] - 7s 46ms/step - loss: 0.5419 - accuracy: 0.7265\n",
      "36/36 [==============================] - 0s 13ms/step - loss: 0.4929 - accuracy: 0.7285\n",
      "144/144 [==============================] - 2s 13ms/step - loss: 0.4825 - accuracy: 0.7280\n",
      "Epoch 1/5\n",
      "144/144 [==============================] - 6s 44ms/step - loss: 0.5416 - accuracy: 0.7265\n",
      "Epoch 2/5\n",
      "106/144 [=====================>........] - ETA: 1s - loss: 0.4603 - accuracy: 0.7577"
     ]
    }
   ],
   "source": [
    "grid.fit(X, Y)"
   ]
  },
  {
   "cell_type": "code",
   "execution_count": null,
   "id": "31bc3182",
   "metadata": {},
   "outputs": [],
   "source": [
    "res = pd.DataFrame(grid.cv_results_)"
   ]
  },
  {
   "cell_type": "code",
   "execution_count": null,
   "id": "c32d05c6",
   "metadata": {},
   "outputs": [],
   "source": [
    "res"
   ]
  },
  {
   "cell_type": "code",
   "execution_count": null,
   "id": "43cbf642",
   "metadata": {},
   "outputs": [],
   "source": [
    "res.pivot_table(index=[\"param_epochs\", \"param_hidden_size\"],\n",
    "                values=['mean_train_score', \"mean_test_score\"])"
   ]
  },
  {
   "cell_type": "code",
   "execution_count": null,
   "id": "96e2d36a",
   "metadata": {},
   "outputs": [],
   "source": [
    "grid.score(X, Y)"
   ]
  },
  {
   "cell_type": "code",
   "execution_count": null,
   "id": "76809574",
   "metadata": {},
   "outputs": [],
   "source": [
    "import cv2\n",
    "import numpy as np"
   ]
  },
  {
   "cell_type": "code",
   "execution_count": null,
   "id": "74d8527e",
   "metadata": {},
   "outputs": [],
   "source": [
    "face_clsfr=cv2.CascadeClassifier(cv2.data.haarcascades + 'haarcascade_frontalface_default.xml')\n",
    "\n",
    "source=cv2.VideoCapture(0)\n",
    "\n",
    "labels_dict={0:'MASK',1:'NO MASK'}\n",
    "color_dict={0:(0,255,0),1:(0,0,255)}"
   ]
  },
  {
   "cell_type": "code",
   "execution_count": null,
   "id": "77fa61a6",
   "metadata": {},
   "outputs": [],
   "source": [
    "while(True):\n",
    "\n",
    "    ret,img=source.read()\n",
    "    gray=cv2.cvtColor(img,cv2.COLOR_BGR2GRAY)\n",
    "    faces=face_clsfr.detectMultiScale(gray,1.3,5)  \n",
    "\n",
    "    for x,y,w,h in faces:\n",
    "    \n",
    "        face_img=gray[y:y+w,x:x+w]\n",
    "        resized=cv2.resize(face_img,(50,50))\n",
    "        normalized=resized/255.0\n",
    "        reshaped=np.reshape(normalized,(1,50,50,1))\n",
    "        result=grid.predict(reshaped)\n",
    "\n",
    "        label=np.argmax(result,axis=1)[0]\n",
    "      \n",
    "        cv2.rectangle(img,(x,y),(x+w,y+h),color_dict[label],2)\n",
    "        cv2.rectangle(img,(x,y-40),(x+w,y),color_dict[label],-1)\n",
    "        cv2.putText(img, labels_dict[label], (x, y-10),cv2.FONT_HERSHEY_SIMPLEX,0.8,(255,255,255),2)\n",
    "        \n",
    "        \n",
    "    cv2.imshow('LIVE',img)\n",
    "    key=cv2.waitKey(1)\n",
    "    \n",
    "    if(key==27):\n",
    "        break\n",
    "        \n",
    "cv2.destroyAllWindows()\n",
    "source.release()"
   ]
  },
  {
   "cell_type": "code",
   "execution_count": null,
   "id": "692010c4",
   "metadata": {},
   "outputs": [],
   "source": []
  },
  {
   "cell_type": "code",
   "execution_count": null,
   "id": "34029b20",
   "metadata": {},
   "outputs": [],
   "source": []
  },
  {
   "cell_type": "code",
   "execution_count": null,
   "id": "a6920547",
   "metadata": {},
   "outputs": [],
   "source": []
  },
  {
   "cell_type": "code",
   "execution_count": null,
   "id": "015eec53",
   "metadata": {},
   "outputs": [],
   "source": []
  },
  {
   "cell_type": "code",
   "execution_count": null,
   "id": "9a52d417",
   "metadata": {},
   "outputs": [],
   "source": []
  }
 ],
 "metadata": {
  "kernelspec": {
   "display_name": "Python 3",
   "language": "python",
   "name": "python3"
  },
  "language_info": {
   "codemirror_mode": {
    "name": "ipython",
    "version": 3
   },
   "file_extension": ".py",
   "mimetype": "text/x-python",
   "name": "python",
   "nbconvert_exporter": "python",
   "pygments_lexer": "ipython3",
   "version": "3.8.8"
  }
 },
 "nbformat": 4,
 "nbformat_minor": 5
}
